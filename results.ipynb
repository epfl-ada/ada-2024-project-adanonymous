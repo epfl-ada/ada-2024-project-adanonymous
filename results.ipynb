{
 "cells": [
  {
   "cell_type": "code",
   "execution_count": null,
   "id": "96ba9612-3d8f-4d55-b8b6-5dcb5ab5255a",
   "metadata": {},
   "outputs": [
    {
     "ename": "ModuleNotFoundError",
     "evalue": "No module named 'src.utils.analysis_movies_functions'",
     "output_type": "error",
     "traceback": [
      "\u001b[1;31m---------------------------------------------------------------------------\u001b[0m",
      "\u001b[1;31mModuleNotFoundError\u001b[0m                       Traceback (most recent call last)",
      "Cell \u001b[1;32mIn[1], line 8\u001b[0m\n\u001b[0;32m      6\u001b[0m \u001b[38;5;28;01mfrom\u001b[39;00m \u001b[38;5;21;01mscipy\u001b[39;00m \u001b[38;5;28;01mimport\u001b[39;00m stats\n\u001b[0;32m      7\u001b[0m \u001b[38;5;28;01mfrom\u001b[39;00m \u001b[38;5;21;01msklearn\u001b[39;00m \u001b[38;5;28;01mimport\u001b[39;00m linear_model\n\u001b[1;32m----> 8\u001b[0m \u001b[38;5;28;01mfrom\u001b[39;00m \u001b[38;5;21;01msrc\u001b[39;00m\u001b[38;5;21;01m.\u001b[39;00m\u001b[38;5;21;01mutils\u001b[39;00m\u001b[38;5;21;01m.\u001b[39;00m\u001b[38;5;21;01manalysis_movies_functions\u001b[39;00m \u001b[38;5;28;01mimport\u001b[39;00m extract_us_nonus, get_all_genre,  get_movies_genre_change, plot_movies_genre_change, plot_percentage_movies_genre_all, linear_regression_plot\n\u001b[0;32m      9\u001b[0m \u001b[38;5;28;01mfrom\u001b[39;00m \u001b[38;5;21;01msrc\u001b[39;00m\u001b[38;5;21;01m.\u001b[39;00m\u001b[38;5;21;01mutils\u001b[39;00m\u001b[38;5;21;01m.\u001b[39;00m\u001b[38;5;21;01manalysis_plots_functions\u001b[39;00m \u001b[38;5;28;01mimport\u001b[39;00m count_key_words, plot_key_words_occ, percentage_key_words_before_after, plot_key_words_occ_zoomed\n",
      "\u001b[1;31mModuleNotFoundError\u001b[0m: No module named 'src.utils.analysis_movies_functions'"
     ]
    }
   ],
   "source": [
    "\n",
    "import numpy as np\n",
    "import matplotlib.pyplot as plt\n",
    "import seaborn as sns\n",
    "import pandas as pd \n",
    "import math\n",
    "from scipy import stats\n",
    "from sklearn import linear_modelS\n",
    "from src.utils.analysis_movies_function import extract_us_nonus, get_all_genre,  get_movies_genre_change, plot_movies_genre_change, plot_percentage_movies_genre_all, linear_regression_plot\n",
    "from src.utils.analysis_plots_function import count_key_words, plot_key_words_occ, percentage_key_words_before_after, plot_key_words_occ_zoomed\n"
   ]
  },
  {
   "cell_type": "markdown",
   "id": "41a7a599",
   "metadata": {},
   "source": [
    "# Loading the data"
   ]
  },
  {
   "cell_type": "markdown",
   "id": "524903f7",
   "metadata": {},
   "source": [
    "All the raw data preprocessing, and basic analysis can be found in the jupyter notebook `src/utils/preprocessing.ipynb`. \n",
    "In the preprocessing, we did several things: \n",
    "- We removed outliers from the dataset (example: a movie with several years of runtime...)\n",
    "- We transformed data in a more useful way (example: string date to datetime, dict to list...)\n",
    "- We added new columns from the existing ones and infered some values based on the majority of the data \n",
    "- We matched the cleaned ethnicity ID with another dataset to get meaningful ethnicities \n",
    "\n",
    "The raw datasets are in `/src/data` and the cleaned and formated datasets are then saved as pkl files in `/data`"
   ]
  },
  {
   "cell_type": "code",
   "execution_count": null,
   "id": "ee850026",
   "metadata": {},
   "outputs": [],
   "source": [
    "movies = pd.read_pickle('data/movies.pkl')\n",
    "tvtropes = pd.read_pickle('data/tvtropes.pkl')\n",
    "plot_summaries = pd.read_pickle('data/plot_summaries.pkl')"
   ]
  },
  {
   "cell_type": "markdown",
   "id": "7d486017",
   "metadata": {},
   "source": [
    "### US selection"
   ]
  },
  {
   "cell_type": "code",
   "execution_count": null,
   "id": "3f7deba8",
   "metadata": {},
   "outputs": [],
   "source": [
    "us_movies,nonus_movies = extract_us_nonus(movies)\n",
    "genres_unique = get_all_genre(movies)"
   ]
  },
  {
   "cell_type": "markdown",
   "id": "9aa21b82",
   "metadata": {},
   "source": [
    "# 9/11 US"
   ]
  },
  {
   "cell_type": "markdown",
   "id": "23bec442",
   "metadata": {},
   "source": [
    "The genres with the highest change are social issues, horror, political cinema"
   ]
  },
  {
   "cell_type": "code",
   "execution_count": null,
   "id": "bb5eeda7",
   "metadata": {},
   "outputs": [],
   "source": [
    "df = get_movies_genre_change(us_movies, genres_unique, -1 , 1997,  2002,2006)"
   ]
  },
  {
   "cell_type": "code",
   "execution_count": null,
   "id": "c4c77687",
   "metadata": {},
   "outputs": [],
   "source": [
    "print(df.count_before.describe())\n",
    "print(\"median\")\n",
    "print(df.count_before.median())"
   ]
  },
  {
   "cell_type": "code",
   "execution_count": null,
   "id": "3f80ceb7",
   "metadata": {},
   "outputs": [],
   "source": [
    "print(df.count_after.describe())\n",
    "print(\"median\")\n",
    "print(df.count_after.median())"
   ]
  },
  {
   "cell_type": "markdown",
   "id": "2963f622",
   "metadata": {},
   "source": [
    "We notice here that the distribution of genres is right skewed, with a maximum percentage lower than 10% and a median around 0.03%. We should keep this in mind when we will the percentage and the focus should be more on the change than the absolute value"
   ]
  },
  {
   "cell_type": "code",
   "execution_count": null,
   "id": "908cc6ee",
   "metadata": {},
   "outputs": [],
   "source": [
    "#to get the genre the most impacted, we will choose a small time range to limit cofounding factors\n",
    "df = get_movies_genre_change(us_movies, genres_unique, 20, 1997,  2002,2006)\n",
    "plot_movies_genre_change(df)\n",
    "t_statistic, p_value = stats.ttest_ind(df.count_before, df.count_after)\n",
    "\n",
    "print(\"t-statistic:\", t_statistic)\n",
    "print(\"p-value:\", p_value)"
   ]
  },
  {
   "cell_type": "markdown",
   "id": "283a6c50",
   "metadata": {},
   "source": [
    "for the 20 genres the most changing, there is a significant difference "
   ]
  },
  {
   "cell_type": "code",
   "execution_count": null,
   "id": "dc15da28",
   "metadata": {},
   "outputs": [],
   "source": [
    "# from these 20 genres we focus on the ones linked to politics and social \n",
    "genres = ['Social issues', 'Road-Horror','Political satire', 'Film & Television History','Political cinema', 'Law & Crime',\n",
    "       'Culture & Society','Zombie Film', 'Dystopia', 'Monster']"
   ]
  },
  {
   "cell_type": "code",
   "execution_count": null,
   "id": "c6ac892c",
   "metadata": {},
   "outputs": [],
   "source": [
    "df = get_movies_genre_change(us_movies, genres_unique, 10, 1997,  2002,2006)\n",
    "#genres =['Social issues','Road-Horror','Political cinema','Political satire', 'Law & Crime','Illnesses & Disabilities','Holiday Film','Social problem film','Glamorized Spy Film','Swashbuckler films','Dystopia', 'Documentary']\n",
    "plot_percentage_movies_genre_all(us_movies,genres,1992, 2010, 2002,5,2)"
   ]
  },
  {
   "cell_type": "markdown",
   "id": "9bc034d0",
   "metadata": {},
   "source": [
    "We notice an upward trend in the social issues genre after 2002. A similar pattern appears in political cinema, where the trend shifts from a decrease to an increase. Additionally, the road horror genre shows a peak after 2002"
   ]
  },
  {
   "cell_type": "code",
   "execution_count": null,
   "id": "f15a48aa",
   "metadata": {},
   "outputs": [],
   "source": [
    "# linear regression for political cinema\n",
    "linear_regression_plot(us_movies,1992,2010,2002,\"Political cinema\")\n",
    "\n"
   ]
  },
  {
   "cell_type": "markdown",
   "id": "64143e33",
   "metadata": {},
   "source": [
    "# Non US movies"
   ]
  },
  {
   "cell_type": "code",
   "execution_count": null,
   "id": "bd7e91f1",
   "metadata": {},
   "outputs": [],
   "source": [
    "df = get_movies_genre_change(nonus_movies, genres_unique, 20, 1997,  2002,2006)\n",
    "plot_movies_genre_change(df)"
   ]
  },
  {
   "cell_type": "code",
   "execution_count": null,
   "id": "2dd558ae",
   "metadata": {},
   "outputs": [],
   "source": [
    "df = get_movies_genre_change(nonus_movies, genres_unique, 10, 1997,  2002,2006)\n",
    "#genres =['Social issues','Road-Horror','Political cinema','Political satire', 'Law & Crime','Illnesses & Disabilities','Holiday Film','Social problem film','Glamorized Spy Film','Swashbuckler films','Dystopia', 'Documentary']\n",
    "plot_percentage_movies_genre_all(nonus_movies,genres,1992, 2010, 2002,5,2)"
   ]
  },
  {
   "cell_type": "markdown",
   "id": "7f5160b2",
   "metadata": {},
   "source": [
    "We observe that the 20 genres with the highest changes are not completely identical between the U.S. and the rest of the world. Additionally, examining the time series for each genre studied in the U.S., we see that genres like political cinema, for example, show different trends in variation when compared to their counterparts outside the U.S."
   ]
  },
  {
   "cell_type": "code",
   "execution_count": null,
   "id": "e5e2c2f1",
   "metadata": {},
   "outputs": [],
   "source": [
    "# linear regression for political cinema\n",
    "linear_regression_plot(nonus_movies,1992,2010,2002,\"Political cinema\")\n",
    "\n"
   ]
  },
  {
   "cell_type": "markdown",
   "id": "afec6553",
   "metadata": {},
   "source": [
    "The impact is more pronounced for non-U.S. countries, with a sharp peak followed by a decrease. This could be due to the significant impact of the 2001 event, but the long-term effect on non-U.S. countries may be less important"
   ]
  },
  {
   "cell_type": "markdown",
   "id": "8f68b0bd",
   "metadata": {},
   "source": [
    "# Plot summaries analysis on 9/11"
   ]
  },
  {
   "cell_type": "markdown",
   "id": "e4d3289d",
   "metadata": {},
   "source": [
    "### We will inspect the plot of movies to detect any change in lexical fields w.r.t 9/11."
   ]
  },
  {
   "cell_type": "markdown",
   "id": "5fb3dce3",
   "metadata": {},
   "source": [
    "We first merge the movies and plot summaries datasets."
   ]
  },
  {
   "cell_type": "code",
   "execution_count": null,
   "id": "1956ef8b",
   "metadata": {},
   "outputs": [],
   "source": [
    "\n",
    "movies_and_plot = pd.merge(left=movies, right=plot_summaries, on='Wikipedia_movie_ID')\n",
    "movies_and_plot.head()"
   ]
  },
  {
   "cell_type": "markdown",
   "id": "4f07b449",
   "metadata": {},
   "source": [
    "Here are the words we are interested in. It can be modified to have more key words."
   ]
  },
  {
   "cell_type": "code",
   "execution_count": null,
   "id": "f9276220",
   "metadata": {},
   "outputs": [],
   "source": [
    "key_words = ['plane', 'tower', 'twin tower', 'terrorism', 'terrorist', 'hijack', 'islam', 'world trade center']\n",
    "col_name_of_key_words = ['Count_of_' + '_'.join(word.split(' ')) for word in key_words]"
   ]
  },
  {
   "cell_type": "code",
   "execution_count": null,
   "id": "711aa4bd",
   "metadata": {},
   "outputs": [],
   "source": [
    "# Count the number of occurences of key words in plot summary for each movie \n",
    "df_key_words_occ = count_key_words(movies_and_plots_df=movies_and_plot.copy(), key_words=key_words)\n",
    "df_key_words_occ"
   ]
  },
  {
   "cell_type": "code",
   "execution_count": null,
   "id": "8c13c84c",
   "metadata": {},
   "outputs": [],
   "source": [
    "plot_key_words_occ(key_words_occ_df=df_key_words_occ, key_words=key_words)"
   ]
  },
  {
   "cell_type": "markdown",
   "id": "8d7b5928",
   "metadata": {},
   "source": [
    "Now we zoom in our period of interest."
   ]
  },
  {
   "cell_type": "code",
   "execution_count": null,
   "id": "d8ad3d7a",
   "metadata": {},
   "outputs": [],
   "source": [
    "plot_key_words_occ_zoomed(key_words_occ_df=df_key_words_occ, key_words=key_words)"
   ]
  },
  {
   "cell_type": "markdown",
   "id": "fe2e727b",
   "metadata": {},
   "source": [
    "We can see that the word \"terrorist\" and \"tower\" were more frequent after 2002, but drops in 2010. We see that the words \"terrorism\", \"islam\", \"world trade center\" and \"twin tower\" are negligible. There is a peak for the word \"hijack\" in 2006 and then drops a bit."
   ]
  },
  {
   "cell_type": "markdown",
   "id": "92ec800b",
   "metadata": {},
   "source": [
    "\n",
    "Now by percentage !\n"
   ]
  },
  {
   "cell_type": "code",
   "execution_count": null,
   "id": "c9890635",
   "metadata": {},
   "outputs": [],
   "source": [
    "df_key_words_occ_before_after = percentage_key_words_before_after(df_key_words_occ)\n",
    "df_key_words_occ_before_after"
   ]
  },
  {
   "cell_type": "markdown",
   "id": "78cda6e3",
   "metadata": {},
   "source": [
    "\n",
    "It is interesting to see that for the word \"plane\", it is less used after 9/11 than before, even though you would expect to have more."
   ]
  }
 ],
 "metadata": {
  "kernelspec": {
   "display_name": "base",
   "language": "python",
   "name": "python3"
  },
  "language_info": {
   "codemirror_mode": {
    "name": "ipython",
    "version": 3
   },
   "file_extension": ".py",
   "mimetype": "text/x-python",
   "name": "python",
   "nbconvert_exporter": "python",
   "pygments_lexer": "ipython3",
   "version": "3.12.4"
  }
 },
 "nbformat": 4,
 "nbformat_minor": 5
}
